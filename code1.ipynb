{
 "cells": [
  {
   "cell_type": "code",
   "execution_count": 1,
   "metadata": {},
   "outputs": [
    {
     "ename": "SyntaxError",
     "evalue": "unterminated string literal (detected at line 16) (3005473447.py, line 16)",
     "output_type": "error",
     "traceback": [
      "\u001b[1;36m  Cell \u001b[1;32mIn[1], line 16\u001b[1;36m\u001b[0m\n\u001b[1;33m    'Status': ['Open', 'Open', 'Open],\u001b[0m\n\u001b[1;37m                               ^\u001b[0m\n\u001b[1;31mSyntaxError\u001b[0m\u001b[1;31m:\u001b[0m unterminated string literal (detected at line 16)\n"
     ]
    }
   ],
   "source": [
    "import pandas as pd\n",
    "import numpy as np\n",
    "\n",
    "# Hypothetical deviations with risk criteria\n",
    "deviations_data = {\n",
    "    'Node': ['Liquefied Gas Storage Tank', 'Loading and Unloading Operations','Vapor Recovery System'],\n",
    "    'Intention':['Assess hazards and risks of gas storage','Identify hazards during loading/unloading\t','Assess hazards and risks of vapor recovery']\n",
    "    'Deviation': ['High temperature', 'Low flow rate'],\n",
    "    'Design Conditions': ['Maximum storage capacity, pressure, and temperature limits', 'Loading/unloading rates, product specifications','Flow rates, VOC concentrations, pressure limits'],\n",
    "    'Cause': ['Failure of temperature control system', 'Blockage in the flow line'],\n",
    "    'IPL': [,'Yes','Yes'],\n",
    "    'LOPA Requirement':\n",
    "    'PHA Recommendation': ['Flow rates, VOC concentrations, pressure limits', 'Regular Inspection and Maintenance','Ventilation System Assessment'],\n",
    "    'Priority': ['High', 'Medium', 'Medium'],\n",
    "    'Responsible Party': ['Operations Department', 'Maintenance Department','Engineering Department'],\n",
    "    'Status': ['Open', 'Open', 'Open],\n",
    "    \n",
    "    'Safeguard': ['Overfill Protection System', 'Tank Integrity Inspection','Ventilation System Monitoring'],\n",
    "    'Safeguard Effectiveness': ['Highly effective', 'Effective','Yes'],\n",
    "    'Risk Criteria': ['Tolerable if frequency < 1/year', 'Tolerable if production loss < 5%'],\n",
    "}\n",
    "\n",
    "# Create a DataFrame from the deviations data\n",
    "deviations_df = pd.DataFrame(deviations_data)\n",
    "\n",
    "# Risk levels mapping\n",
    "risk_levels = {\n",
    "    'Low': 1,\n",
    "    'Medium': 3,\n",
    "    'High': 5,\n",
    "}\n",
    "\n",
    "# Map consequence severity and likelihood to risk levels\n",
    "deviations_df['Consequence Severity Level'] = deviations_df['Consequence'].map(risk_levels)\n",
    "deviations_df['Likelihood Level'] = deviations_df['Priority'].map(risk_levels)\n",
    "\n",
    "# Generate the risk matrix (original)\n",
    "risk_matrix_data = {\n",
    "    'Consequence \\ Likelihood': ['Insignificant', 'Minor', 'Moderate', 'Major', 'Severe'],\n",
    "    'Level 1': ['Green', 'Green', 'Yellow', 'Red', 'Brown'],\n",
    "    'Level 2': ['Yellow', 'Orange', 'Orange', 'Red', 'Brown'],\n",
    "    'Level 3': ['Yellow', 'Orange', 'Red', 'Red', 'Red'],\n",
    "    'Level 4': ['Green', 'Yellow', 'Orange', 'Red', 'Brown'],\n",
    "    'Level 5': ['Green', 'Yellow', 'Orange', 'Red', 'Brown'],\n",
    "}\n",
    "\n",
    "# Create a DataFrame for the risk matrix (original)\n",
    "risk_matrix_df = pd.DataFrame(risk_matrix_data)\n",
    "\n",
    "# Set the risk levels as index\n",
    "risk_matrix_df.set_index('Consequence \\ Likelihood', inplace=True)\n",
    "\n",
    "# Add a row and column of zeros to the original risk matrix\n",
    "zero_row = pd.Series([0] * len(risk_matrix_df.columns), name='Zero')\n",
    "risk_matrix_df_with_zeros = pd.concat([zero_row, risk_matrix_df], axis=0)\n",
    "risk_matrix_df_with_zeros = pd.concat([zero_row, risk_matrix_df_with_zeros], axis=1)\n",
    "\n",
    "# Generate the mirrored risk matrix\n",
    "upper_triangle = np.triu(risk_matrix_df_with_zeros.values)\n",
    "mirrored_risk_matrix = np.concatenate((upper_triangle, upper_triangle.T), axis=1)\n",
    "\n",
    "# Create a DataFrame for the mirrored risk matrix\n",
    "columns = list(risk_matrix_df_with_zeros.columns)\n",
    "index = list(risk_matrix_df_with_zeros.index) + list(risk_matrix_df_with_zeros.index)[1:][::-1]\n",
    "mirrored_risk_matrix_df = pd.DataFrame(mirrored_risk_matrix, columns=columns, index=index)\n",
    "\n",
    "# Save the DataFrames to Excel files\n",
    "output_deviations_file = 'hazop_deviations_with_risk_matrix.xlsx'\n",
    "output_risk_matrix_file = 'hazop_risk_matrix_mirrored.xlsx'\n",
    "deviations_df.to_excel(output_deviations_file, index=False)\n",
    "mirrored_risk_matrix_df.to_excel(output_risk_matrix_file)\n",
    "\n"
   ]
  }
 ],
 "metadata": {
  "kernelspec": {
   "display_name": "Python 3",
   "language": "python",
   "name": "python3"
  },
  "language_info": {
   "codemirror_mode": {
    "name": "ipython",
    "version": 3
   },
   "file_extension": ".py",
   "mimetype": "text/x-python",
   "name": "python",
   "nbconvert_exporter": "python",
   "pygments_lexer": "ipython3",
   "version": "3.11.1"
  },
  "orig_nbformat": 4
 },
 "nbformat": 4,
 "nbformat_minor": 2
}
