{
 "cells": [
  {
   "cell_type": "code",
   "execution_count": 1,
   "metadata": {},
   "outputs": [
    {
     "ename": "ValueError",
     "evalue": "all the input array dimensions except for the concatenation axis must match exactly, but along dimension 0, the array at index 0 has size 10 and the array at index 1 has size 7",
     "output_type": "error",
     "traceback": [
      "\u001b[1;31m---------------------------------------------------------------------------\u001b[0m",
      "\u001b[1;31mValueError\u001b[0m                                Traceback (most recent call last)",
      "Cell \u001b[1;32mIn[1], line 63\u001b[0m\n\u001b[0;32m     61\u001b[0m \u001b[39m# Generate the mirrored risk matrix\u001b[39;00m\n\u001b[0;32m     62\u001b[0m upper_triangle \u001b[39m=\u001b[39m np\u001b[39m.\u001b[39mtriu(risk_matrix_df_with_zeros\u001b[39m.\u001b[39mvalues)\n\u001b[1;32m---> 63\u001b[0m mirrored_risk_matrix \u001b[39m=\u001b[39m np\u001b[39m.\u001b[39;49mconcatenate((upper_triangle, upper_triangle\u001b[39m.\u001b[39;49mT), axis\u001b[39m=\u001b[39;49m\u001b[39m1\u001b[39;49m)\n\u001b[0;32m     65\u001b[0m \u001b[39m# Create a DataFrame for the mirrored risk matrix\u001b[39;00m\n\u001b[0;32m     66\u001b[0m columns \u001b[39m=\u001b[39m \u001b[39mlist\u001b[39m(risk_matrix_df_with_zeros\u001b[39m.\u001b[39mcolumns)\n",
      "\u001b[1;31mValueError\u001b[0m: all the input array dimensions except for the concatenation axis must match exactly, but along dimension 0, the array at index 0 has size 10 and the array at index 1 has size 7"
     ]
    }
   ],
   "source": [
    "import pandas as pd\n",
    "import numpy as np\n",
    "\n",
    "# Hypothetical deviations with risk criteria\n",
    "deviations_data = {\n",
    "    'Node': ['Crude Oil Distillation Unit', 'Hydrogen Plant','Catalytic Reforming Unit'],\n",
    "    'Deviation': ['\tPressure Exceeding Limits', 'Leaks or Spills','Inadequate Heat Exchange']\n",
    "    'Guide Word': ['High', 'Other Than','Other Than'],\n",
    "    'Parameter': ['Pressure exceeding limits', 'Leakage or spillage','Prevent and promptly address leaks or spills','Optimize heat exchangers and fouling prevention'],\n",
    "    'Design Intent': ['Maintain proper pressure control\t', 'React chemicals A and B to form compound X'],\n",
    "    'Cause': ['Failure of temperature control system', 'Blockage in the flow line'],\n",
    "    'Consequence Category': ['Fire/Explosion', 'Quality/Productivity'],\n",
    "    'IPL Requirement': ['Temperature sensor with alarm and automatic shutdown', 'Flow rate monitoring system with interlock'],\n",
    "    'LOPA Requirement': ['Safety interlock and emergency shutdown system', 'Additional flow sensors for redundancy'],\n",
    "    'PHA Recommendation': ['Safety Training', 'Preventive Maintenance','Resource Allocation'],\n",
    "    'Priority': ['High', 'Medium','High'],\n",
    "    'Responsible Party': ['\tOperations Team', 'Maintenance Team','Management Team'],\n",
    "    'Status': ['Open', 'Open','Open'],\n",
    "    'Comments': ['Provide appropriate safety training to all employees to ensure awareness and compliance with safety procedures.',\n",
    "'Establish a preventive maintenance program to regularly inspect and maintain critical equipment for optimal performance.','Allocate sufficient resources and budget for safety initiatives, equipment upgrades, and ongoing maintenance activities.\n",
    "'\n",
    "'\n",
    "'],\n",
    "    'Safeguard': ['Pressure Relief Valve', 'Fire Detection System','Emergency Shutdown System'],\n",
    "    'Risk Criteria': ['Tolerable if frequency < 1/year', 'Tolerable if production loss < 5%'],\n",
    "}\n",
    "\n",
    "# Create a DataFrame from the deviations data\n",
    "deviations_df = pd.DataFrame(deviations_data)\n",
    "\n",
    "# Risk levels mapping\n",
    "risk_levels = {\n",
    "    'Low': 1,\n",
    "    'Medium': 3,\n",
    "    'High': 5,\n",
    "}\n",
    "\n",
    "# Map consequence severity and likelihood to risk levels\n",
    "deviations_df['Consequence Severity Level'] = deviations_df['Consequence'].map(risk_levels)\n",
    "deviations_df['Likelihood Level'] = deviations_df['Priority'].map(risk_levels)\n",
    "\n",
    "# Generate the risk matrix (original)\n",
    "risk_matrix_data = {\n",
    "    'Consequence \\ Likelihood': ['Insignificant', 'Minor', 'Moderate', 'Major', 'Severe'],\n",
    "    'Level 1': ['Green', 'Green', 'Yellow', 'Brown', 'Red'],\n",
    "    'Level 2': ['Yellow', 'Orange', 'Yellow', 'Orange', 'Red'],\n",
    "    'Level 3': ['Yellow', 'Orange', 'Red', 'Red', 'Brown'],\n",
    "    'Level 4': ['Green', 'Yellow', 'Orange', 'Red', 'Brown'],\n",
    "    'Level 5': ['Green', 'Yellow', 'Orange', 'Red', 'Brown'],\n",
    "}\n",
    "\n",
    "# Create a DataFrame for the risk matrix (original)\n",
    "risk_matrix_df = pd.DataFrame(risk_matrix_data)\n",
    "\n",
    "# Set the risk levels as index\n",
    "risk_matrix_df.set_index('Consequence \\ Likelihood', inplace=True)\n",
    "\n",
    "# Add a row and column of zeros to the original risk matrix\n",
    "zero_row = pd.Series([0] * len(risk_matrix_df.columns), name='Zero')\n",
    "risk_matrix_df_with_zeros = pd.concat([zero_row, risk_matrix_df], axis=0)\n",
    "risk_matrix_df_with_zeros = pd.concat([zero_row, risk_matrix_df_with_zeros], axis=1)\n",
    "\n",
    "# Generate the mirrored risk matrix\n",
    "upper_triangle = np.triu(risk_matrix_df_with_zeros.values)\n",
    "mirrored_risk_matrix = np.concatenate((upper_triangle, upper_triangle.T), axis=1)\n",
    "\n",
    "# Create a DataFrame for the mirrored risk matrix\n",
    "columns = list(risk_matrix_df_with_zeros.columns)\n",
    "index = list(risk_matrix_df_with_zeros.index) + list(risk_matrix_df_with_zeros.index)[1:][::-1]\n",
    "mirrored_risk_matrix_df = pd.DataFrame(mirrored_risk_matrix, columns=columns, index=index)\n",
    "\n",
    "# Save the DataFrames to Excel files\n",
    "output_deviations_file = 'hazop_deviations_with_risk_matrix.xlsx'\n",
    "output_risk_matrix_file = 'hazop_risk_matrix_mirrored.xlsx'\n",
    "deviations_df.to_excel(output_deviations_file, index=False)\n",
    "mirrored_risk_matrix_df.to_excel(output_risk_matrix_file)\n",
    "\n"
   ]
  },
  {
   "cell_type": "code",
   "execution_count": null,
   "metadata": {},
   "outputs": [],
   "source": []
  },
  {
   "cell_type": "code",
   "execution_count": null,
   "metadata": {},
   "outputs": [],
   "source": []
  },
  {
   "cell_type": "code",
   "execution_count": null,
   "metadata": {},
   "outputs": [],
   "source": []
  },
  {
   "cell_type": "code",
   "execution_count": null,
   "metadata": {},
   "outputs": [],
   "source": []
  },
  {
   "cell_type": "code",
   "execution_count": null,
   "metadata": {},
   "outputs": [],
   "source": []
  },
  {
   "cell_type": "code",
   "execution_count": null,
   "metadata": {},
   "outputs": [],
   "source": []
  },
  {
   "cell_type": "code",
   "execution_count": null,
   "metadata": {},
   "outputs": [],
   "source": []
  },
  {
   "cell_type": "code",
   "execution_count": null,
   "metadata": {},
   "outputs": [],
   "source": []
  },
  {
   "cell_type": "code",
   "execution_count": null,
   "metadata": {},
   "outputs": [],
   "source": []
  },
  {
   "cell_type": "code",
   "execution_count": null,
   "metadata": {},
   "outputs": [],
   "source": []
  },
  {
   "cell_type": "code",
   "execution_count": null,
   "metadata": {},
   "outputs": [],
   "source": []
  },
  {
   "cell_type": "code",
   "execution_count": null,
   "metadata": {},
   "outputs": [],
   "source": []
  },
  {
   "cell_type": "code",
   "execution_count": null,
   "metadata": {},
   "outputs": [],
   "source": []
  },
  {
   "cell_type": "code",
   "execution_count": null,
   "metadata": {},
   "outputs": [],
   "source": []
  },
  {
   "cell_type": "code",
   "execution_count": null,
   "metadata": {},
   "outputs": [],
   "source": []
  }
 ],
 "metadata": {
  "language_info": {
   "name": "python"
  },
  "orig_nbformat": 4
 },
 "nbformat": 4,
 "nbformat_minor": 2
}
